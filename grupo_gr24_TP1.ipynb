{
 "cells": [
  {
   "cell_type": "markdown",
   "id": "1cd6de12-3034-4ef6-8402-88468018c174",
   "metadata": {},
   "source": [
    "### Consigna 1"
   ]
  },
  {
   "cell_type": "markdown",
   "id": "c378c948-75c3-4d3c-b68a-7c75163b8f97",
   "metadata": {},
   "source": [
    "a) Si $(I - A)$ es inversible, eso significa que la ecuación $p = (I - A)^{-1}d$ tendrá solución única para **cualquier** valor de $d$. Por lo tanto, la economía puede ajustar la producción $p$ para satisfacer cualquier nivel de demanda $d$."
   ]
  },
  {
   "cell_type": "markdown",
   "id": "3cd8c6e2-390f-46ae-a046-844b380f37f7",
   "metadata": {},
   "source": [
    "b) Si $(I - A)$ es inversible y $d=0$, al ser un sistema compatible determinado y homogéneo, la única solución del sistema será $p=0$. Es decir que el la economía estará en equilibrio sin producir nada.\n"
   ]
  },
  {
   "cell_type": "markdown",
   "id": "a60b8b64-d8cf-463e-9370-82eade7ffc7f",
   "metadata": {},
   "source": [
    "c) Si $(I - A)$ no es inversible entonces no podremos garantizar un valor de $p$ para cada valor de $d$ dado. En algunos casos el sistema podria tener infinitas soluciones o ninguna."
   ]
  },
  {
   "cell_type": "markdown",
   "id": "4643e4df-36bf-48a7-bd86-1ad029b965ae",
   "metadata": {},
   "source": [
    "d) Si $(I - A)$ no es inversible y $d=0$, $p=0$ es una solución posible pero no seria la única. Estariamos en el caso de una economía cerrada con dependencia lineal entre los sectores."
   ]
  },
  {
   "cell_type": "markdown",
   "id": "d39dcc6c-2c9e-424d-8cca-3650a93d460d",
   "metadata": {},
   "source": [
    "### Consigna 2"
   ]
  },
  {
   "cell_type": "code",
   "execution_count": 70,
   "id": "65d24835-f89e-47a2-a319-594cbda454e9",
   "metadata": {},
   "outputs": [],
   "source": [
    "from funciones import calcularLU, inversaLU\n",
    "import numpy as np"
   ]
  },
  {
   "cell_type": "markdown",
   "id": "b79aeeba-420f-402e-9cda-104545edea5f",
   "metadata": {},
   "source": [
    "### Consigna 3"
   ]
  },
  {
   "cell_type": "markdown",
   "id": "d5325887-1aba-4d8e-b40d-4f6e11054aff",
   "metadata": {},
   "source": [
    "$$\\text{Consigna 3:}$$\n",
    "$$ \\text{Resolver el sistema 2 utilizando inversaLU para los siguientes valores de A y d:}$$\n",
    "$$\\begin\n",
    "{pmatrix}\n",
    " 0.3&0.0&0.1   \\\\\n",
    " 0.05&1.0  &0.2  \\\\\n",
    " 0.1& 0.15 &0.1 \n",
    "\\end\n",
    "{pmatrix}\n",
    "\\text{, d=}\n",
    "\\begin{pmatrix}\n",
    " 100\\\\\n",
    " 100\\\\\n",
    "300\n",
    "\\end{pmatrix} $$"
   ]
  },
  {
   "cell_type": "code",
   "execution_count": 71,
   "id": "299fbe1e-2c8d-4216-b7a9-80f548f2abd0",
   "metadata": {},
   "outputs": [],
   "source": [
    "I = np.eye(3)\n",
    "A = np.array([[0.3, 0, 0.1],[0.05, 1, 0.2], [0.1, 0.15, 0.1]])\n",
    "d = np.array([100, 100, 300])"
   ]
  },
  {
   "cell_type": "markdown",
   "id": "c4380a95-283d-4b35-8321-cdff86ca252c",
   "metadata": {},
   "source": [
    "Calculamos $(I - A)^{-1}$ con las funciones calcularLU e inversaLU y lo encapsulamos en una función para poder reutilizarla despues"
   ]
  },
  {
   "cell_type": "code",
   "execution_count": 72,
   "id": "ed8bb923-0d46-413e-bd61-339c5423644f",
   "metadata": {},
   "outputs": [],
   "source": [
    "def calcularMatrizDeLeontief(A):\n",
    "    I = np.eye(A.shape[0])\n",
    "    L, U, P = calcularLU(I - A)\n",
    "    Leont = inversaLU(L, U, P)\n",
    "    return Leont"
   ]
  },
  {
   "cell_type": "code",
   "execution_count": 73,
   "id": "d3cbf1bb-8ec4-4167-8fd9-e9a671bdd0bd",
   "metadata": {},
   "outputs": [],
   "source": [
    "Leont = calcularMatrizDeLeontief(A)"
   ]
  },
  {
   "cell_type": "code",
   "execution_count": 74,
   "id": "48091a0a-3e9c-45a6-9139-9cf0611ffaa1",
   "metadata": {},
   "outputs": [
    {
     "data": {
      "text/plain": [
       "array([[  1.37931034,  -0.68965517,   0.        ],\n",
       "       [ -2.98850575, -28.50574713,  -6.66666667],\n",
       "       [ -0.34482759,  -4.82758621,   0.        ]])"
      ]
     },
     "execution_count": 74,
     "metadata": {},
     "output_type": "execute_result"
    }
   ],
   "source": [
    "Leont"
   ]
  },
  {
   "cell_type": "markdown",
   "id": "53fc418c-ef59-400c-a334-ed9ca1a3e057",
   "metadata": {},
   "source": [
    "Hallamos p"
   ]
  },
  {
   "cell_type": "code",
   "execution_count": 75,
   "id": "701e6122-2b1d-4596-ae28-c59a110ed8be",
   "metadata": {
    "scrolled": true
   },
   "outputs": [
    {
     "data": {
      "text/plain": [
       "array([   68.96551724, -5149.42528736,  -517.24137931])"
      ]
     },
     "execution_count": 75,
     "metadata": {},
     "output_type": "execute_result"
    }
   ],
   "source": [
    "p = np.matmul(Leont, d)\n",
    "p"
   ]
  },
  {
   "cell_type": "markdown",
   "id": "aac777c5-2fdd-4321-b073-dd2b804a7856",
   "metadata": {},
   "source": [
    "$$\\text{I. ¿Hay una justificación económica de los valores encontrados para p?}$$\n",
    "<p>\n",
    "    Sí, el valor encontrado es:\n",
    "</p>\n",
    "\n",
    "$$\n",
    "\\text{p }\\approx \\begin{pmatrix}\n",
    "68,965 \\\\\n",
    "-5149,425 \\\\\n",
    "-517,241\n",
    "\\end{pmatrix}\n",
    "$$\n",
    "<p>\n",
    "    Señalando en la matriz tres sectores S1,S2,S3 hipotéticos de la economía:\n",
    "</p>\n",
    "$$\n",
    "\\begin{matrix}\n",
    " & S1 &S2  &S3  \\\\\n",
    "S1 & 0.3 & 0.0 &0.1  \\\\\n",
    "S2 & 0.05 & 1.0 & 0.2 \\\\\n",
    "S3 &  0.1& 0.15 & 0.1\n",
    "\\end{matrix}\n",
    "$$\n",
    "<p>\n",
    "    Se ve que el sector S2 necesita comprar insumos (para fabricar una unidad de producto p2) de su mismo sector por un valor igual al total de su producción ($a_{2,2} = 1.0$) y algo más al sector S3 ($a_{2,3} = 0.15$). Con lo cual es un sector deficitario de la economia y no puede satisfacer demanda alguna pues no produce excedente, sólo consume.\n",
    "Otra forma de verlo es que para fabricar una unidad de producto $p_{2}$ se requiere una unidad de $p_{2}$ entera y algo más de $p_{1}$ y $p_{3}$.\n",
    "</p>\n",
    "$$\\text{II. ¿Cuál es la característica de la matriz que lleva a esta solución?}$$\n",
    "<p>\n",
    "    El coficiente técnico $a_{2,2} = 1.0$ indica que la forma de satisfacer $p = Ap + d$ con $p = (p_{1},p_{2},p_{3})$ seria si $ p_{2} = 0.05*p_{1} + p_{2} + 0.2*p_{3} + 100$ con $p_{1}$, $p_{2}$ y $p_{3}$ no negativos y eso no tiene soluciones positivas.\n",
    "</p>\n",
    "\n"
   ]
  },
  {
   "attachments": {},
   "cell_type": "markdown",
   "id": "143e7473-139c-4f83-a99b-7674b26b1234",
   "metadata": {},
   "source": [
    "### Consigna 4\n",
    "<p>Analizar analiticamente qué sucede con la producción total cuando a partir de una demanda externa $d$, la demanda externa para el producto 3 cambia en un $\\Delta d$. La demanda externa se convierte en:</p>\n",
    "$$\n",
    "\\text{d' } = d + \\begin{pmatrix}\n",
    "0 \\\\\n",
    "0 \\\\\n",
    "1\n",
    "\\end{pmatrix}\n",
    "$$\n"
   ]
  },
  {
   "cell_type": "markdown",
   "id": "b1c882cf-d06e-474a-a7f4-f4f7daef08a4",
   "metadata": {},
   "source": [
    "En general, siendo que $p' = L d' = L(d+\\Delta d) = Ld + L\\Delta d = p + L\\Delta d$, podemos concluir que $p' - p = \n",
    "\\Delta p = L\\Delta d$."
   ]
  },
  {
   "cell_type": "markdown",
   "id": "a3b05852-e567-49f4-bfdd-bab9b2e966e0",
   "metadata": {},
   "source": [
    "Es decir que para obtener $\\Delta p$ tenemos que multiplicar a la matriz de Leontief por $\\Delta d$. En este caso\n",
    "particular, por la forma que tiene $\\Delta d$, resulta que $\\Delta p = (L_{31}, L_{32}, L_{33})$ siendo $L_{ij}$ el\n",
    "coeficiente de la matriz de Leontief en la posición $i,j$."
   ]
  },
  {
   "cell_type": "markdown",
   "id": "f0f36992-9b6b-4ae3-8ffd-9b0699460b09",
   "metadata": {},
   "source": [
    "### Consigna 5"
   ]
  },
  {
   "cell_type": "markdown",
   "id": "a072de6f-9e5e-4358-b3fe-2be1b83ad397",
   "metadata": {},
   "source": [
    "Para encontrar la matriz de coeficientes tecnicos utilizamos la siguiente función"
   ]
  },
  {
   "cell_type": "code",
   "execution_count": 76,
   "id": "bc622b07-a230-42e0-9d7d-c477ab827af2",
   "metadata": {},
   "outputs": [],
   "source": [
    "def calcularCoeficientesTecnicos(Z, p):\n",
    "    Pmatrix = np.diag(p)\n",
    "    L, U, P = calcularLU(Pmatrix)\n",
    "    Pinversa = inversaLU(L,U,P)\n",
    "    CoeficientesTecnicos = np.matmul(Z,Pinversa)\n",
    "    return CoeficientesTecnicos"
   ]
  },
  {
   "cell_type": "code",
   "execution_count": 77,
   "id": "4ffffe7f-8b64-43cb-bb02-1a0d6d53f610",
   "metadata": {},
   "outputs": [],
   "source": [
    "Z = np.array([[350, 0, 0], [50, 250, 150], [200, 150, 550]])\n",
    "p = [1000, 500, 1000]\n",
    "CoeficientesTecnicos = calcularCoeficientesTecnicos(Z, p)"
   ]
  },
  {
   "cell_type": "markdown",
   "id": "e01e3aa6-d08f-4a3d-b52e-13f97f2318a9",
   "metadata": {},
   "source": [
    "La matriz de coeficientes tecnicos es:"
   ]
  },
  {
   "cell_type": "code",
   "execution_count": 78,
   "id": "eac8977f-fbb2-4621-b795-d77e0d9b69c2",
   "metadata": {},
   "outputs": [
    {
     "data": {
      "text/plain": [
       "array([[0.35, 0.  , 0.  ],\n",
       "       [0.05, 0.5 , 0.15],\n",
       "       [0.2 , 0.3 , 0.55]])"
      ]
     },
     "execution_count": 78,
     "metadata": {},
     "output_type": "execute_result"
    }
   ],
   "source": [
    "CoeficientesTecnicos"
   ]
  },
  {
   "cell_type": "markdown",
   "id": "35d48ec3-9091-4eed-94c4-eabc756c8bd0",
   "metadata": {},
   "source": [
    "Y la matriz de Leontief asociada a la economia es:"
   ]
  },
  {
   "cell_type": "code",
   "execution_count": 79,
   "id": "6d4a3951-7a75-4364-aea4-9e27ef5308ad",
   "metadata": {},
   "outputs": [
    {
     "data": {
      "text/plain": [
       "array([[1.53846154, 0.        , 0.        ],\n",
       "       [0.44871795, 2.5       , 0.83333333],\n",
       "       [0.98290598, 1.66666667, 2.77777778]])"
      ]
     },
     "execution_count": 79,
     "metadata": {},
     "output_type": "execute_result"
    }
   ],
   "source": [
    "calcularMatrizDeLeontief(CoeficientesTecnicos)"
   ]
  },
  {
   "cell_type": "markdown",
   "id": "23a27331-0e46-4d1d-a216-0807fccbfb57",
   "metadata": {},
   "source": [
    "### Consigna 6"
   ]
  },
  {
   "cell_type": "markdown",
   "id": "347042f9-4b8a-4720-be4a-dc3b3f2c55c0",
   "metadata": {},
   "source": [
    "Partiendo de la ecuación (4) que describe el modelo de Leontief para dos regiones $r$ y $s$ y teniendo en cuenta las relaciones intra-regionales e inter-regionales:\n",
    "\n",
    "$$\n",
    "\\begin{pmatrix}\n",
    "(I - A^{rr}) & -A^{rs} \\\\\n",
    "-A^{sr} & (I - A^{ss})\n",
    "\\end{pmatrix}\n",
    "\\begin{pmatrix}\n",
    "p^r \\\\\n",
    "p^s\n",
    "\\end{pmatrix}\n",
    "=\n",
    "\\begin{pmatrix}\n",
    "d^r \\\\\n",
    "d^s\n",
    "\\end{pmatrix}\n",
    "$$\n",
    "\n",
    "\n",
    "Podemos descomponer la ecuación en el siguiente sistema:\n",
    "\n",
    "1. Para la región $r$:\n",
    "   $$\n",
    "   (I - A^{rr}) p^r - A^{rs} p^s = d^r\n",
    "   $$\n",
    "\n",
    "2. Para la región $s$:\n",
    "   $$\n",
    "   -A^{sr} p^r + (I - A^{ss}) p^s = d^s\n",
    "   $$\n",
    "\n",
    "\n",
    "Despejamos $p_s$ en la segunda ecuacion:\n",
    "$$\n",
    "(I - A^{ss}) p^s = A^{sr} p^r + d^s\n",
    "$$\n",
    "\n",
    "Multiplicamos ambos lados por la inversa de $ (I - A^{ss}) $ para despejar $p^s$:\n",
    "\n",
    "$$\n",
    "p^s = (I - A^{ss})^{-1} A^{sr} p^r + (I - A^{ss})^{-1} d^s\n",
    "$$\n",
    "\n",
    "\n",
    "Luego, sustituyendo $p^s$ en la ecuación de $p^r$:\n",
    "\n",
    "$$\n",
    "(I - A^{rr}) p^r - A^{rs} \\left( (I - A^{ss})^{-1} A^{sr} p^r + (I - A^{ss})^{-1} d^s \\right) = d^r\n",
    "$$\n",
    "\n",
    "Distribuimos $A^{rs}$:\n",
    "\n",
    "$$\n",
    "(I - A^{rr}) p_r - A^{rs} (I - A^{ss})^{-1} A^{sr} p^r - A^{rs} (I - A^{ss})^{-1} d^s = d^r\n",
    "$$\n",
    "\n",
    "\n",
    "Sacamos $p^r$ de factor común:\n",
    "\n",
    "$$\n",
    "\\left( I - A^{rr} - A^{rs} (I - A^{ss})^{-1} A^{sr} \\right) p^r = d^r + A^{rs} (I - A^{ss})^{-1} d^s\n",
    "$$\n",
    "\n",
    "\n",
    "Finalmente, asumiendo $\\Delta d^s = 0$, obtenemos:\n",
    "\n",
    "\n",
    "$$\n",
    "\\left( I - A^{rr} - A^{rs} (I - A^{ss})^{-1} A^{sr} \\right) \\Delta p^r = \\Delta d^r\n",
    "$$\n",
    "\n",
    "Multiplicamos ambos lados por la inversa del término de la izquierda para despejar $\\Delta p^r$:\n",
    "\n",
    "$$\n",
    "\\Delta p^r = \\left( I - A^{rr} - A^{rs} (I - A^{ss})^{-1} A^{sr} \\right)^{-1} \\Delta d^r\n",
    "$$\n",
    "\n",
    "Obtenemos la fórmula para calcular $\\Delta p^{r}$ a partir de $\\Delta d^{r}$\n"
   ]
  },
  {
   "cell_type": "markdown",
   "id": "8e765195-8aa1-407c-b73b-298b61cd3b00",
   "metadata": {},
   "source": [
    "### Consigna 7"
   ]
  },
  {
   "cell_type": "code",
   "execution_count": 80,
   "id": "9a821934-8dd5-436d-81ed-f8a55de58fca",
   "metadata": {},
   "outputs": [],
   "source": [
    "import pandas as pd"
   ]
  },
  {
   "cell_type": "code",
   "execution_count": 81,
   "id": "7c491f95-6b4f-492a-a15a-8f31dcec7723",
   "metadata": {},
   "outputs": [],
   "source": [
    "full_matrix = pd.read_excel('matrizlatina2011_compressed_0.xlsx', sheet_name='LAC_IOT_2011')"
   ]
  },
  {
   "cell_type": "code",
   "execution_count": 82,
   "id": "52d54672-04ce-441f-b2bc-357d23357128",
   "metadata": {},
   "outputs": [],
   "source": [
    "ecu_hnd_full_matrix = full_matrix[full_matrix['Country_iso3'].isin(['ECU','HND'])]"
   ]
  },
  {
   "cell_type": "code",
   "execution_count": 83,
   "id": "03d663dc-eb11-447b-8320-54f2809859d3",
   "metadata": {},
   "outputs": [],
   "source": [
    "ecu_columns = [col for col in ecu_hnd_matrix if col.startswith('ECU')]\n",
    "hnd_columns = [col for col in ecu_hnd_matrix if col.startswith('HND')]\n",
    "filter_col = ['Country_iso3'] + ecu_columns + hnd_columns + ['Output']"
   ]
  },
  {
   "cell_type": "code",
   "execution_count": 84,
   "id": "a1f8a8e5-bda9-4cad-a2e5-38646a19aacd",
   "metadata": {},
   "outputs": [],
   "source": [
    "ecu_hnd_matrix = ecu_hnd_full_matrix[filter_col]\n",
    "ecu_hnd_matrix = ecu_hnd_matrix.replace(0,1)"
   ]
  },
  {
   "cell_type": "markdown",
   "id": "a20e4a34-b4be-4f28-9840-de7baffe7663",
   "metadata": {},
   "source": [
    "Generamos el vector de total de producto producido p para cada pais, y las matrices intrarregionales e interregionales."
   ]
  },
  {
   "cell_type": "code",
   "execution_count": 85,
   "id": "5b9c8d55-1cbc-45ca-93ea-9ad6099f37a7",
   "metadata": {},
   "outputs": [],
   "source": [
    "ecu_p = ecu_hnd_matrix.head(40)['Output']\n",
    "hnd_p = ecu_hnd_matrix.tail(40)['Output']"
   ]
  },
  {
   "cell_type": "code",
   "execution_count": 86,
   "id": "13613dbe-b0fc-40de-b20f-22b83dd6d596",
   "metadata": {},
   "outputs": [],
   "source": [
    "ecu_intra_matrix = ecu_hnd_matrix.head(40)[ecu_columns]\n",
    "ecu_hnd_inter_matrix = ecu_hnd_matrix.head(40)[hnd_columns]\n",
    "hnd_ecu_inter_matrix = ecu_hnd_matrix.tail(40)[ecu_columns]\n",
    "hnd_intra_matrix = ecu_hnd_matrix.tail(40)[hnd_columns]"
   ]
  },
  {
   "cell_type": "markdown",
   "id": "5df14bce-bb6f-4953-ac91-c372519da869",
   "metadata": {},
   "source": [
    "Calculamos los coeficientes tecnicos de cada una de las matrices:"
   ]
  },
  {
   "cell_type": "code",
   "execution_count": 87,
   "id": "016e9da5-4186-4053-8afe-9073be961f64",
   "metadata": {},
   "outputs": [],
   "source": [
    "coef_tecnicos_ecu_intra = calcularCoeficientesTecnicos(ecu_intra_matrix, ecu_p)\n",
    "coef_tecnicos_ecu_hnd_inter = calcularCoeficientesTecnicos(ecu_hnd_inter_matrix, ecu_p)\n",
    "coef_tecnicos_hnd_ecu_inter = calcularCoeficientesTecnicos(hnd_ecu_inter_matrix, hnd_p)\n",
    "coef_tecnicos_hnd_intra = calcularCoeficientesTecnicos(hnd_intra_matrix, hnd_p)"
   ]
  },
  {
   "cell_type": "code",
   "execution_count": 88,
   "id": "abb5cfb2-bb5e-477d-81dc-4a47c7a8e0b7",
   "metadata": {},
   "outputs": [
    {
     "data": {
      "text/html": [
       "<div>\n",
       "<style scoped>\n",
       "    .dataframe tbody tr th:only-of-type {\n",
       "        vertical-align: middle;\n",
       "    }\n",
       "\n",
       "    .dataframe tbody tr th {\n",
       "        vertical-align: top;\n",
       "    }\n",
       "\n",
       "    .dataframe thead th {\n",
       "        text-align: right;\n",
       "    }\n",
       "</style>\n",
       "<table border=\"1\" class=\"dataframe\">\n",
       "  <thead>\n",
       "    <tr style=\"text-align: right;\">\n",
       "      <th></th>\n",
       "      <th>0</th>\n",
       "      <th>1</th>\n",
       "      <th>2</th>\n",
       "      <th>3</th>\n",
       "      <th>4</th>\n",
       "      <th>5</th>\n",
       "      <th>6</th>\n",
       "      <th>7</th>\n",
       "      <th>8</th>\n",
       "      <th>9</th>\n",
       "      <th>...</th>\n",
       "      <th>30</th>\n",
       "      <th>31</th>\n",
       "      <th>32</th>\n",
       "      <th>33</th>\n",
       "      <th>34</th>\n",
       "      <th>35</th>\n",
       "      <th>36</th>\n",
       "      <th>37</th>\n",
       "      <th>38</th>\n",
       "      <th>39</th>\n",
       "    </tr>\n",
       "  </thead>\n",
       "  <tbody>\n",
       "    <tr>\n",
       "      <th>223</th>\n",
       "      <td>0.000005</td>\n",
       "      <td>0.000193</td>\n",
       "      <td>0.001883</td>\n",
       "      <td>0.006224</td>\n",
       "      <td>0.000013</td>\n",
       "      <td>0.000364</td>\n",
       "      <td>0.002229</td>\n",
       "      <td>0.007532</td>\n",
       "      <td>0.000294</td>\n",
       "      <td>0.013815</td>\n",
       "      <td>...</td>\n",
       "      <td>1.0</td>\n",
       "      <td>5.688231e-04</td>\n",
       "      <td>0.002279</td>\n",
       "      <td>0.000202</td>\n",
       "      <td>0.011135</td>\n",
       "      <td>0.000003</td>\n",
       "      <td>0.002800</td>\n",
       "      <td>0.000169</td>\n",
       "      <td>0.000408</td>\n",
       "      <td>0.000312</td>\n",
       "    </tr>\n",
       "    <tr>\n",
       "      <th>211</th>\n",
       "      <td>0.000096</td>\n",
       "      <td>0.000625</td>\n",
       "      <td>0.000311</td>\n",
       "      <td>0.002917</td>\n",
       "      <td>0.000426</td>\n",
       "      <td>0.000364</td>\n",
       "      <td>0.002229</td>\n",
       "      <td>0.000179</td>\n",
       "      <td>0.000745</td>\n",
       "      <td>0.013815</td>\n",
       "      <td>...</td>\n",
       "      <td>1.0</td>\n",
       "      <td>4.202217e-02</td>\n",
       "      <td>0.000809</td>\n",
       "      <td>0.000019</td>\n",
       "      <td>0.000073</td>\n",
       "      <td>0.000043</td>\n",
       "      <td>0.005605</td>\n",
       "      <td>0.000361</td>\n",
       "      <td>0.000150</td>\n",
       "      <td>0.001744</td>\n",
       "    </tr>\n",
       "    <tr>\n",
       "      <th>228</th>\n",
       "      <td>0.000096</td>\n",
       "      <td>0.000625</td>\n",
       "      <td>0.000070</td>\n",
       "      <td>0.002917</td>\n",
       "      <td>0.000426</td>\n",
       "      <td>0.000364</td>\n",
       "      <td>0.002229</td>\n",
       "      <td>0.000179</td>\n",
       "      <td>0.000745</td>\n",
       "      <td>0.013815</td>\n",
       "      <td>...</td>\n",
       "      <td>1.0</td>\n",
       "      <td>1.432956e-08</td>\n",
       "      <td>0.001075</td>\n",
       "      <td>0.000049</td>\n",
       "      <td>0.000073</td>\n",
       "      <td>0.000142</td>\n",
       "      <td>0.000298</td>\n",
       "      <td>0.000248</td>\n",
       "      <td>0.000150</td>\n",
       "      <td>0.000287</td>\n",
       "    </tr>\n",
       "    <tr>\n",
       "      <th>209</th>\n",
       "      <td>0.000096</td>\n",
       "      <td>0.000625</td>\n",
       "      <td>0.000070</td>\n",
       "      <td>0.002917</td>\n",
       "      <td>0.000426</td>\n",
       "      <td>0.000364</td>\n",
       "      <td>0.002229</td>\n",
       "      <td>0.000179</td>\n",
       "      <td>0.000745</td>\n",
       "      <td>0.013815</td>\n",
       "      <td>...</td>\n",
       "      <td>1.0</td>\n",
       "      <td>4.202217e-02</td>\n",
       "      <td>0.001075</td>\n",
       "      <td>0.000364</td>\n",
       "      <td>0.000073</td>\n",
       "      <td>0.000142</td>\n",
       "      <td>0.000298</td>\n",
       "      <td>0.000248</td>\n",
       "      <td>0.000150</td>\n",
       "      <td>0.000027</td>\n",
       "    </tr>\n",
       "  </tbody>\n",
       "</table>\n",
       "<p>4 rows × 40 columns</p>\n",
       "</div>"
      ],
      "text/plain": [
       "           0         1         2         3         4         5         6   \\\n",
       "223  0.000005  0.000193  0.001883  0.006224  0.000013  0.000364  0.002229   \n",
       "211  0.000096  0.000625  0.000311  0.002917  0.000426  0.000364  0.002229   \n",
       "228  0.000096  0.000625  0.000070  0.002917  0.000426  0.000364  0.002229   \n",
       "209  0.000096  0.000625  0.000070  0.002917  0.000426  0.000364  0.002229   \n",
       "\n",
       "           7         8         9   ...   30            31        32        33  \\\n",
       "223  0.007532  0.000294  0.013815  ...  1.0  5.688231e-04  0.002279  0.000202   \n",
       "211  0.000179  0.000745  0.013815  ...  1.0  4.202217e-02  0.000809  0.000019   \n",
       "228  0.000179  0.000745  0.013815  ...  1.0  1.432956e-08  0.001075  0.000049   \n",
       "209  0.000179  0.000745  0.013815  ...  1.0  4.202217e-02  0.001075  0.000364   \n",
       "\n",
       "           34        35        36        37        38        39  \n",
       "223  0.011135  0.000003  0.002800  0.000169  0.000408  0.000312  \n",
       "211  0.000073  0.000043  0.005605  0.000361  0.000150  0.001744  \n",
       "228  0.000073  0.000142  0.000298  0.000248  0.000150  0.000287  \n",
       "209  0.000073  0.000142  0.000298  0.000248  0.000150  0.000027  \n",
       "\n",
       "[4 rows x 40 columns]"
      ]
     },
     "execution_count": 88,
     "metadata": {},
     "output_type": "execute_result"
    }
   ],
   "source": [
    "coef_tecnicos_ecu_intra.sample(4)"
   ]
  },
  {
   "cell_type": "markdown",
   "id": "8fba5f80-9829-45e7-9af7-127e3b124dc9",
   "metadata": {},
   "source": [
    "Nos quedaron pendientes los últimos dos puntos"
   ]
  },
  {
   "cell_type": "code",
   "execution_count": null,
   "id": "c1a03e8a-62ae-4007-b0f1-f7643a3bc833",
   "metadata": {},
   "outputs": [],
   "source": []
  }
 ],
 "metadata": {
  "kernelspec": {
   "display_name": "Python 3 (ipykernel)",
   "language": "python",
   "name": "python3"
  },
  "language_info": {
   "codemirror_mode": {
    "name": "ipython",
    "version": 3
   },
   "file_extension": ".py",
   "mimetype": "text/x-python",
   "name": "python",
   "nbconvert_exporter": "python",
   "pygments_lexer": "ipython3",
   "version": "3.12.4"
  }
 },
 "nbformat": 4,
 "nbformat_minor": 5
}
