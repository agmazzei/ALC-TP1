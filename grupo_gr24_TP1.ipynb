{
 "cells": [
  {
   "cell_type": "markdown",
   "id": "aac777c5-2fdd-4321-b073-dd2b804a7856",
   "metadata": {},
   "source": [
    "$$\\text{Consigna 3:}$$\n",
    "$$ \\text{Resolver el sistema 2 utilizando inversaLU para los siguientes valores de A y d:}$$\n",
    "$$\\begin\n",
    "{pmatrix}\n",
    " 0.3&0.0&0.1   \\\\\n",
    " 0.05&1.0  &0.2  \\\\\n",
    " 0.1& 0.15 &0.1 \n",
    "\\end\n",
    "{pmatrix}\n",
    "\\text{, d=}\n",
    "\\begin{pmatrix}\n",
    " 100\\\\\n",
    " 100\\\\\n",
    "300\n",
    "\\end{pmatrix} $$\n",
    "$$\\text{I. ¿Hay una justificación económica de los valores encontrados para p?}$$\n",
    "\n",
    "<p>\n",
    "    Sí, el valor encontrado es:\n",
    "</p>\n",
    "\n",
    "$$\n",
    "\\text{p }\\approx \\begin{pmatrix}\n",
    "68,965 \\\\\n",
    "-5149,425 \\\\\n",
    "-517,241\n",
    "\\end{pmatrix}\n",
    "$$\n",
    "<p>\n",
    "    Señalando en la matriz tres sectores S1,S2,S3 hipotéticos de la economía:\n",
    "</p>\n",
    "$$\n",
    "\\begin{matrix}\n",
    " & S1 &S2  &S3  \\\\\n",
    "S1 & 0.3 & 0.0 &0.1  \\\\\n",
    "S2 & 0.05 & 1.0 & 0.2 \\\\\n",
    "S3 &  0.1& 0.15 & 0.1\n",
    "\\end{matrix}\n",
    "$$\n",
    "<p>\n",
    "    Se ve que el sector S2 necesita comprar insumos (para fabricar una unidad de producto p2) de su mismo sector por un valor igual al total de su producción ($a_{2,2} = 1.0$) y algo más al sector S3 ($a_{2,3} = 0.15$). Con lo cual es un sector deficitario de la economia y no puede satisfacer demanda alguna pues no produce excedente, sólo consume.\n",
    "Otra forma de verlo es que para fabricar una unidad de producto p2 se requiere una unidad de p2 entera y algo más cada ves.\n",
    "</p>\n",
    "$$\\text{II. ¿Cuál es la característica de la matriz que lleva a esta solución?}$$\n",
    "<p>\n",
    "    El coficiente técnico $a_{2,2} = 1.0$ indica que la forma de satisfacer $p = Ap + d$ con $p = (p1,p2,p3)$ seria si $ p2 = 0.05p1 + p2 + 0.2p3 + 100$ con p1,p2 o p3 no negativos y eso no tiene soluciones positivas.\n",
    "</p>\n",
    "\n",
    "$$\\text{Consigna 4:}$$\n",
    "<p>Analizar analiticamente qué sucede con la producción total cuando a partir de una demanda externa d, la demanda externa para el producto 3 cambia en un deltaD. La demanda externa se convierte en:}</p>"
   ]
  },
  {
   "cell_type": "markdown",
   "id": "a3b05852-e567-49f4-bfdd-bab9b2e966e0",
   "metadata": {},
   "source": []
  }
 ],
 "metadata": {
  "kernelspec": {
   "display_name": "Python 3 (ipykernel)",
   "language": "python",
   "name": "python3"
  },
  "language_info": {
   "codemirror_mode": {
    "name": "ipython",
    "version": 3
   },
   "file_extension": ".py",
   "mimetype": "text/x-python",
   "name": "python",
   "nbconvert_exporter": "python",
   "pygments_lexer": "ipython3",
   "version": "3.12.4"
  }
 },
 "nbformat": 4,
 "nbformat_minor": 5
}
